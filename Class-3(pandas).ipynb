{
 "cells": [
  {
   "cell_type": "code",
   "execution_count": 53,
   "id": "281a2fa3",
   "metadata": {},
   "outputs": [
    {
     "name": "stdout",
     "output_type": "stream",
     "text": [
      "0    1\n",
      "1    2\n",
      "2    3\n",
      "3    4\n",
      "4    5\n",
      "5    6\n",
      "dtype: int64\n",
      "     name  age\n",
      "0  shivam   23\n",
      "1  Akshay   34\n",
      "2   anmol   45\n"
     ]
    }
   ],
   "source": [
    "import pandas as pd\n",
    "series = pd.Series([1,2,3,4,5,6])\n",
    "print(series)\n",
    "data = {'name':['shivam','Akshay', 'anmol'],'age':[23,34,45]}\n",
    "df = pd.DataFrame(data)\n",
    "print(df)"
   ]
  },
  {
   "cell_type": "code",
   "execution_count": 54,
   "id": "7181c57a",
   "metadata": {},
   "outputs": [
    {
     "name": "stdout",
     "output_type": "stream",
     "text": [
      "<class 'pandas.core.frame.DataFrame'>\n",
      "RangeIndex: 6 entries, 0 to 5\n",
      "Data columns (total 3 columns):\n",
      " #   Column  Non-Null Count  Dtype \n",
      "---  ------  --------------  ----- \n",
      " 0   name    6 non-null      object\n",
      " 1   age     6 non-null      int64 \n",
      " 2   Marks   6 non-null      int64 \n",
      "dtypes: int64(2), object(1)\n",
      "memory usage: 276.0+ bytes\n"
     ]
    }
   ],
   "source": [
    "student_data = {\"name\":[\"Shivam\",\"jatin\",\"Jai\",\"Jyotishman\",\"Khushi\",\"Akshay\"],\n",
    "                \"age\":[20,20,20,20,20,45],\n",
    "                \"Marks\":[89,79,99,49,67,100]}\n",
    "student_frame = pd.DataFrame(student_data)\n",
    "# student_frame.head()\n",
    "# student_frame.tail()\n",
    "student_frame.describe()\n",
    "student_frame.info()"
   ]
  }
 ],
 "metadata": {
  "kernelspec": {
   "display_name": "base",
   "language": "python",
   "name": "python3"
  },
  "language_info": {
   "codemirror_mode": {
    "name": "ipython",
    "version": 3
   },
   "file_extension": ".py",
   "mimetype": "text/x-python",
   "name": "python",
   "nbconvert_exporter": "python",
   "pygments_lexer": "ipython3",
   "version": "3.12.7"
  }
 },
 "nbformat": 4,
 "nbformat_minor": 5
}
