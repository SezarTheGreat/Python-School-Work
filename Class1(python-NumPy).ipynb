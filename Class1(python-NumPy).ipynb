{
 "cells": [
  {
   "cell_type": "code",
   "execution_count": 7,
   "id": "93c5594c-d4f9-412d-aee3-fd696ee95cb0",
   "metadata": {},
   "outputs": [
    {
     "name": "stdout",
     "output_type": "stream",
     "text": [
      "[[  2   3   5]\n",
      " [  3  12   4]\n",
      " [329  23  54]]\n"
     ]
    }
   ],
   "source": [
    "import numpy as np\n",
    "a = np.array([[2,3,5],[3,12,4],[329,23,54]])\n",
    "b = np.array([[6,7,8],[324,6545,234],[345,234,665]])\n",
    "print(a)"
   ]
  },
  {
   "cell_type": "code",
   "execution_count": 8,
   "id": "2916be9d-42af-4dff-8656-3495a7eee1c2",
   "metadata": {},
   "outputs": [
    {
     "data": {
      "text/plain": [
       "9"
      ]
     },
     "execution_count": 8,
     "metadata": {},
     "output_type": "execute_result"
    }
   ],
   "source": [
    "a.ndim\n",
    "a.shape\n",
    "a.size"
   ]
  },
  {
   "cell_type": "code",
   "execution_count": 9,
   "id": "3b343abe-7e17-4b3f-907a-584f4461df75",
   "metadata": {},
   "outputs": [
    {
     "name": "stdout",
     "output_type": "stream",
     "text": [
      "50.5\n",
      "505\n",
      "The max value is: 99\n",
      "The min value is: 10\n",
      "[11 22 33 44 55 66 77 88 99 10]\n"
     ]
    }
   ],
   "source": [
    "d = np.array([11,22,33,44,55,66,77,88,99,10])\n",
    "print(np.mean(d))\n",
    "print(np.sum(d))\n",
    "print(f\"The max value is: {np.max(d)}\")\n",
    "print(f\"The min value is: {np.min(d)}\")\n",
    "print(d)"
   ]
  },
  {
   "cell_type": "code",
   "execution_count": 10,
   "id": "afa94042-36db-4fa8-b536-c80138e9e82d",
   "metadata": {},
   "outputs": [
    {
     "name": "stdout",
     "output_type": "stream",
     "text": [
      "The median of the 2d array is: 53.0\n",
      "The mean of the 2d arrays is: 52.832\n",
      "The std deviatiobn of 2d arryas: 27.101065956895496\n"
     ]
    }
   ],
   "source": [
    "r = np.random.randint(1,100,size=(50,5))\n",
    "print(f\"The median of the 2d array is: {np.median(r)}\")\n",
    "print(f\"The mean of the 2d arrays is: {np.mean(r)}\")\n",
    "print(f\"The std deviatiobn of 2d arryas: {np.std(r)}\")\n",
    "# print(r)"
   ]
  }
 ],
 "metadata": {
  "kernelspec": {
   "display_name": "base",
   "language": "python",
   "name": "python3"
  },
  "language_info": {
   "codemirror_mode": {
    "name": "ipython",
    "version": 3
   },
   "file_extension": ".py",
   "mimetype": "text/x-python",
   "name": "python",
   "nbconvert_exporter": "python",
   "pygments_lexer": "ipython3",
   "version": "3.12.7"
  }
 },
 "nbformat": 4,
 "nbformat_minor": 5
}
