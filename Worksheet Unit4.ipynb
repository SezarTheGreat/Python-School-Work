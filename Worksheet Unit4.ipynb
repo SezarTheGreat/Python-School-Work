{
 "cells": [
  {
   "cell_type": "code",
   "execution_count": 6,
   "id": "74f8b72e-8b0f-4e05-9bea-f8d2fa8387a8",
   "metadata": {},
   "outputs": [],
   "source": [
    "#importing libraries\n",
    "import numpy as np"
   ]
  },
  {
   "cell_type": "code",
   "execution_count": 7,
   "id": "0afe476b",
   "metadata": {},
   "outputs": [
    {
     "name": "stdout",
     "output_type": "stream",
     "text": [
      "[[39 23 42 15]\n",
      " [68 66  2 50]\n",
      " [ 7 49 42 15]\n",
      " [51 23 48 29]]\n"
     ]
    }
   ],
   "source": [
    "#Q1. Generate a 4x4 identity matrix using NumPy.\n",
    "a = np.random.randint(1,100,size=(4,4))\n",
    "print(a)"
   ]
  },
  {
   "cell_type": "code",
   "execution_count": 8,
   "id": "f2168f77",
   "metadata": {},
   "outputs": [
    {
     "name": "stdout",
     "output_type": "stream",
     "text": [
      "[[759 276 142  87 413  98 997 440 128 923 195 679 647  71  84 706 249 226\n",
      "  205 896 762 182 930 999 279  38  37 988 926 516 647 721 840 960 135 316\n",
      "  681 524 670 672 203 442 562 882 509 317 186 157 716 688 760 112 644 641\n",
      "   95 808 699 377 629 273 963 685 796 239 204 694 923 114 541 996 621 978\n",
      "  118 329 298 773 797 235 571 536 919 727 408 186 621 690 391 538 440 857\n",
      "  910 598 892 946 753  47 306 170 988 972]]\n"
     ]
    }
   ],
   "source": [
    "#Q2. Create a 1D array of 100 random numbers between 1 and 1000. Find the maximum, minimum, and mean of the array.\n",
    "b = np.random.randint(1,1000,size=(1,100))\n",
    "print(b)"
   ]
  },
  {
   "cell_type": "code",
   "execution_count": 9,
   "id": "918d6ed4",
   "metadata": {},
   "outputs": [
    {
     "name": "stdout",
     "output_type": "stream",
     "text": [
      "Generated Matrix:\n",
      " [[91 36 23 32 94 89]\n",
      " [ 3 62 87 85 91 50]\n",
      " [78 39 92  9 34  1]\n",
      " [21 11 39 64 64  1]\n",
      " [53 46 64 16 97 22]\n",
      " [94 95 11 83 85 24]]\n",
      "\n",
      "Elements greater than 50:\n",
      "91\n",
      "94\n",
      "89\n",
      "62\n",
      "87\n",
      "85\n",
      "91\n",
      "78\n",
      "92\n",
      "64\n",
      "64\n",
      "53\n",
      "64\n",
      "97\n",
      "94\n",
      "95\n",
      "83\n",
      "85\n"
     ]
    }
   ],
   "source": [
    "#Q3. Create a 6x6 matrix with random integers from 1 to 100. Find and print all elements greater than 50.\n",
    "matrix = np.random.randint(1, 101, size=(6, 6))\n",
    "print(\"Generated Matrix:\\n\", matrix)\n",
    "\n",
    "print(\"\\nElements greater than 50:\")\n",
    "for row in matrix:\n",
    "    for element in row:\n",
    "        if element > 50:\n",
    "            print(element)"
   ]
  },
  {
   "cell_type": "code",
   "execution_count": 10,
   "id": "5f2a8705",
   "metadata": {},
   "outputs": [
    {
     "name": "stdout",
     "output_type": "stream",
     "text": [
      "Original Array: [0 0 0 8 7 7 5 5 8 4 4 1 0 9 8 3 5 9 4 4]\n",
      "\n",
      "Split Array into 4 Equal Parts:\n",
      "Part 1: [0 0 0 8 7]\n",
      "Part 2: [7 5 5 8 4]\n",
      "Part 3: [4 1 0 9 8]\n",
      "Part 4: [3 5 9 4 4]\n"
     ]
    }
   ],
   "source": [
    "#Q4. Create a 1D array of 20 elements and split it into 4 equal parts.\n",
    "original_array = np.random.randint(0, 10, 20)\n",
    "print(\"Original Array:\", original_array)\n",
    "\n",
    "# Split the array into 4 equal parts\n",
    "split_array = np.split(original_array, 4)\n",
    "\n",
    "print(\"\\nSplit Array into 4 Equal Parts:\")\n",
    "for i, part in enumerate(split_array):\n",
    "    print(f\"Part {i+1}:\", part)"
   ]
  },
  {
   "cell_type": "code",
   "execution_count": 11,
   "id": "4c87ddbc",
   "metadata": {},
   "outputs": [
    {
     "name": "stdout",
     "output_type": "stream",
     "text": [
      "Original Matrix:\n",
      " [[ 1  2  3  4]\n",
      " [ 5  6  7  8]\n",
      " [ 9 10 11 12]]\n",
      "\n",
      "Mean of each row: [ 2.5  6.5 10.5]\n",
      "Mean of each column: [5. 6. 7. 8.]\n"
     ]
    }
   ],
   "source": [
    "#Q5. Given a 2D matrix, write code to calculate the mean of each row and each column.\n",
    "matrix = np.array([[1, 2, 3, 4],\n",
    "                   [5, 6, 7, 8],\n",
    "                   [9, 10, 11, 12]])\n",
    "\n",
    "print(\"Original Matrix:\\n\", matrix)\n",
    "\n",
    "# Calculate the mean of each row\n",
    "row_means = np.mean(matrix, axis=1)\n",
    "print(\"\\nMean of each row:\", row_means)\n",
    "\n",
    "# Calculate the mean of each column\n",
    "column_means = np.mean(matrix, axis=0)\n",
    "print(\"Mean of each column:\", column_means)"
   ]
  },
  {
   "cell_type": "code",
   "execution_count": 12,
   "id": "686fa530",
   "metadata": {},
   "outputs": [
    {
     "name": "stdout",
     "output_type": "stream",
     "text": [
      "Average score of each student: [86.6 84.  87.4 80.2 84.2 84.2 83.2 87.4 84.2 85.8]\n",
      "\n",
      "Average score of each subject: [82.7 84.5 84.3 86.  86.1]\n",
      "\n",
      "Student with the highest average score (Index 2): 87.40\n",
      "\n",
      "Subject with the highest average score (Index 4): 86.10\n",
      "\n",
      "Normalized scores between 0 and 1:\n",
      " [[0.60714286 0.78571429 0.35714286 0.85714286 0.71428571]\n",
      " [0.28571429 0.5        0.96428571 0.71428571 0.39285714]\n",
      " [0.82142857 0.67857143 0.42857143 0.60714286 0.92857143]\n",
      " [0.         0.25       0.64285714 0.78571429 0.5       ]\n",
      " [0.89285714 0.39285714 0.71428571 0.28571429 0.60714286]\n",
      " [0.42857143 0.71428571 0.85714286 0.57142857 0.32142857]\n",
      " [0.14285714 0.60714286 0.39285714 0.82142857 0.75      ]\n",
      " [0.71428571 0.85714286 0.53571429 0.35714286 1.        ]\n",
      " [0.39285714 0.46428571 0.67857143 0.92857143 0.42857143]\n",
      " [0.96428571 0.64285714 0.25       0.5        0.82142857]]\n"
     ]
    }
   ],
   "source": [
    "\"\"\"Case Study 1: Analyzing Student Scores\n",
    "Scenario:\n",
    "You are provided with scores of 10 students in 5 subjects. Each row represents a student and\n",
    "each column represents a subject.\n",
    "Tasks:\n",
    "1. Print the average score of each student.\n",
    "2. Print the average score of each subject.\n",
    "3. Find the student with the highest average score.\n",
    "4. Find the subject in which students performed the best on average.\n",
    "5. Normalize the scores between 0 and 1.\"\"\"\n",
    "\n",
    "# Student scores data (10 students, 5 subjects)\n",
    "student_scores = np.array([[85, 90, 78, 92, 88],\n",
    "                           [76, 82, 95, 88, 79],\n",
    "                           [91, 87, 80, 85, 94],\n",
    "                           [68, 75, 86, 90, 82],\n",
    "                           [93, 79, 88, 76, 85],\n",
    "                           [80, 88, 92, 84, 77],\n",
    "                           [72, 85, 79, 91, 89],\n",
    "                           [88, 92, 83, 78, 96],\n",
    "                           [79, 81, 87, 94, 80],\n",
    "                           [95, 86, 75, 82, 91]])\n",
    "\n",
    "# 1. Print the average score of each student\n",
    "average_student_scores = np.mean(student_scores, axis=1)\n",
    "print(\"Average score of each student:\", average_student_scores)\n",
    "\n",
    "# 2. Print the average score of each subject\n",
    "average_subject_scores = np.mean(student_scores, axis=0)\n",
    "print(\"\\nAverage score of each subject:\", average_subject_scores)\n",
    "\n",
    "# 3. Find the student with the highest average score\n",
    "highest_average_score = np.max(average_student_scores)\n",
    "student_index_highest_average = np.argmax(average_student_scores)\n",
    "print(f\"\\nStudent with the highest average score (Index {student_index_highest_average}): {highest_average_score:.2f}\")\n",
    "\n",
    "# 4. Find the subject in which students performed the best on average\n",
    "highest_average_subject_score = np.max(average_subject_scores)\n",
    "subject_index_highest_average = np.argmax(average_subject_scores)\n",
    "print(f\"\\nSubject with the highest average score (Index {subject_index_highest_average}): {highest_average_subject_score:.2f}\")\n",
    "\n",
    "# 5. Normalize the scores between 0 and 1\n",
    "min_score = np.min(student_scores)\n",
    "max_score = np.max(student_scores)\n",
    "normalized_scores = (student_scores - min_score) / (max_score - min_score)\n",
    "print(\"\\nNormalized scores between 0 and 1:\\n\", normalized_scores)"
   ]
  },
  {
   "cell_type": "code",
   "execution_count": 13,
   "id": "d4f20528",
   "metadata": {},
   "outputs": [
    {
     "name": "stdout",
     "output_type": "stream",
     "text": [
      "Total sales for each product:\n",
      "Product A: 245 lakhs\n",
      "Product B: 300 lakhs\n",
      "Product C: 190 lakhs\n",
      "Product D: 350 lakhs\n",
      "\n",
      "Total sales for each month:\n",
      "Jan: 150 lakhs\n",
      "Feb: 160 lakhs\n",
      "Mar: 180 lakhs\n",
      "Apr: 189 lakhs\n",
      "May: 191 lakhs\n",
      "Jun: 215 lakhs\n",
      "\n",
      "Month with the highest sales for Product B: Jun (60 lakhs)\n",
      "\n",
      "Average monthly sales of each product:\n",
      "Product A: 40.83 lakhs\n",
      "Product B: 50.00 lakhs\n",
      "Product C: 31.67 lakhs\n",
      "Product D: 58.33 lakhs\n",
      "\n",
      "Percentage increase in sales of Product A from Jan to Jun: 66.67%\n",
      "\n",
      "Product with the highest overall sales: D (350 lakhs)\n"
     ]
    }
   ],
   "source": [
    "\"\"\"Case Study 2: Sales Data Analysis\n",
    "Scenario:\n",
    "You are given monthly sales data (in lakhs) for 4 products (A, B, C, D) over 6 months. Perform\n",
    "analysis using NumPy.\n",
    "Tasks:\n",
    "1. Calculate the total sales for each product.\n",
    "2. Calculate the total sales for each month.\n",
    "3. Identify the month in which sales were the highest for Product B.\n",
    "4. Calculate the average monthly sales of each product.\n",
    "5. Calculate the percentage increase in sales of Product A from the first to the last month.\n",
    "6. Find the product with the highest overall sales.\"\"\"\n",
    "\n",
    "sales_data = np.array([[30, 45, 25, 50],    # Month 1 (A, B, C, D)\n",
    "                       [35, 40, 30, 55],    # Month 2\n",
    "                       [40, 52, 28, 60],    # Month 3\n",
    "                       [48, 48, 35, 58],    # Month 4\n",
    "                       [42, 55, 32, 62],    # Month 5\n",
    "                       [50, 60, 40, 65]])    # Month 6\n",
    "\n",
    "products = ['A', 'B', 'C', 'D']\n",
    "months = ['Jan', 'Feb', 'Mar', 'Apr', 'May', 'Jun']\n",
    "\n",
    "# 1. Calculate the total sales for each product\n",
    "total_sales_per_product = np.sum(sales_data, axis=0)\n",
    "print(\"Total sales for each product:\")\n",
    "for i, total in enumerate(total_sales_per_product):\n",
    "    print(f\"Product {products[i]}: {total} lakhs\")\n",
    "\n",
    "# 2. Calculate the total sales for each month\n",
    "total_sales_per_month = np.sum(sales_data, axis=1)\n",
    "print(\"\\nTotal sales for each month:\")\n",
    "for i, total in enumerate(total_sales_per_month):\n",
    "    print(f\"{months[i]}: {total} lakhs\")\n",
    "\n",
    "# 3. Identify the month in which sales were the highest for Product B\n",
    "product_b_sales = sales_data[:, 1]  # Sales of Product B (second column)\n",
    "month_highest_sales_b_index = np.argmax(product_b_sales)\n",
    "month_highest_sales_b = months[month_highest_sales_b_index]\n",
    "highest_sales_b = product_b_sales[month_highest_sales_b_index]\n",
    "print(f\"\\nMonth with the highest sales for Product B: {month_highest_sales_b} ({highest_sales_b} lakhs)\")\n",
    "\n",
    "# 4. Calculate the average monthly sales of each product\n",
    "average_monthly_sales_per_product = np.mean(sales_data, axis=0)\n",
    "print(\"\\nAverage monthly sales of each product:\")\n",
    "for i, average in enumerate(average_monthly_sales_per_product):\n",
    "    print(f\"Product {products[i]}: {average:.2f} lakhs\")\n",
    "\n",
    "# 5. Calculate the percentage increase in sales of Product A from the first to the last month\n",
    "product_a_sales_first_month = sales_data[0, 0]\n",
    "product_a_sales_last_month = sales_data[-1, 0]\n",
    "percentage_increase_a = ((product_a_sales_last_month - product_a_sales_first_month) / product_a_sales_first_month) * 100\n",
    "print(f\"\\nPercentage increase in sales of Product A from {months[0]} to {months[-1]}: {percentage_increase_a:.2f}%\")\n",
    "\n",
    "# 6. Find the product with the highest overall sales\n",
    "highest_overall_sales = np.max(total_sales_per_product)\n",
    "product_index_highest_overall_sales = np.argmax(total_sales_per_product)\n",
    "product_highest_overall_sales = products[product_index_highest_overall_sales]\n",
    "print(f\"\\nProduct with the highest overall sales: {product_highest_overall_sales} ({highest_overall_sales} lakhs)\")"
   ]
  }
 ],
 "metadata": {
  "kernelspec": {
   "display_name": "base",
   "language": "python",
   "name": "python3"
  },
  "language_info": {
   "codemirror_mode": {
    "name": "ipython",
    "version": 3
   },
   "file_extension": ".py",
   "mimetype": "text/x-python",
   "name": "python",
   "nbconvert_exporter": "python",
   "pygments_lexer": "ipython3",
   "version": "3.12.7"
  }
 },
 "nbformat": 4,
 "nbformat_minor": 5
}
