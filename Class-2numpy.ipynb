{
 "cells": [
  {
   "cell_type": "code",
   "execution_count": 4,
   "id": "b17710a8-aa2a-4639-9f79-c99136ca3a70",
   "metadata": {},
   "outputs": [
    {
     "name": "stdout",
     "output_type": "stream",
     "text": [
      "[8 9]\n"
     ]
    }
   ],
   "source": [
    "import numpy as np\n",
    "#Q1.\n",
    "arr=np.array([2,4,3,5,8,9])\n",
    "mask = arr>5\n",
    "filter = arr[mask]\n",
    "print(filter)"
   ]
  },
  {
   "cell_type": "code",
   "execution_count": 5,
   "id": "c8eb41c3-d1c3-45fc-aa20-5c4e53b76a70",
   "metadata": {},
   "outputs": [
    {
     "name": "stdout",
     "output_type": "stream",
     "text": [
      "[11 -1 13 -1 15 -1 17 -1 19 -1 21 23]\n"
     ]
    }
   ],
   "source": [
    "#Q2.\n",
    "arr2 = np.array([11,12,13,14,15,16,17,18,19,20,21,23])\n",
    "mask2 = (arr2 % 2 == 0)\n",
    "arr2[mask2] = -1\n",
    "print(arr2)"
   ]
  },
  {
   "cell_type": "code",
   "execution_count": 7,
   "id": "305ad393-3093-4b79-bc9c-3346c74e98ab",
   "metadata": {},
   "outputs": [
    {
     "name": "stdout",
     "output_type": "stream",
     "text": [
      "The mean of the students marks are: [89.66666667 62.33333333 82.66666667 78.33333333 69.        ]\n",
      "The max of all students is: [95 74 97 95 93]\n",
      "The normalized score of the marks are: [[0.96 0.82 0.78]\n",
      " [0.26 0.54 0.12]\n",
      " [0.46 1.   0.68]\n",
      " [0.22 0.96 0.7 ]\n",
      " [0.92 0.   0.4 ]]\n"
     ]
    }
   ],
   "source": [
    "#Q3.\n",
    "arr3 = np.random.randint(40,98,size=(5,3))\n",
    "print(f\"The mean of the students marks are: {np.mean(arr3,axis=1)}\")\n",
    "print(f\"The max of all students is: {np.max(arr3,axis=1)}\")\n",
    "min_global_arr3 = np.min(arr3)\n",
    "max_global_arr3 = np.max(arr3)\n",
    "\n",
    "normalized_arr3_global_min_max = (arr3 - min_global_arr3) / (max_global_arr3 - min_global_arr3)\n",
    "print(f\"The normalized score of the marks are: {normalized_arr3_global_min_max}\")"
   ]
  }
 ],
 "metadata": {
  "kernelspec": {
   "display_name": "base",
   "language": "python",
   "name": "python3"
  },
  "language_info": {
   "codemirror_mode": {
    "name": "ipython",
    "version": 3
   },
   "file_extension": ".py",
   "mimetype": "text/x-python",
   "name": "python",
   "nbconvert_exporter": "python",
   "pygments_lexer": "ipython3",
   "version": "3.12.7"
  }
 },
 "nbformat": 4,
 "nbformat_minor": 5
}
